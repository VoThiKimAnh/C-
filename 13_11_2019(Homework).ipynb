{
  "nbformat": 4,
  "nbformat_minor": 0,
  "metadata": {
    "colab": {
      "name": "13-11-2019(Homework).ipynb",
      "provenance": [],
      "include_colab_link": true
    },
    "kernelspec": {
      "name": "python3",
      "display_name": "Python 3"
    }
  },
  "cells": [
    {
      "cell_type": "markdown",
      "metadata": {
        "id": "view-in-github",
        "colab_type": "text"
      },
      "source": [
        "<a href=\"https://colab.research.google.com/github/VoThiKimAnh/C-/blob/master/13_11_2019(Homework).ipynb\" target=\"_parent\"><img src=\"https://colab.research.google.com/assets/colab-badge.svg\" alt=\"Open In Colab\"/></a>"
      ]
    },
    {
      "cell_type": "code",
      "metadata": {
        "id": "K_Jbsk2kxAig",
        "colab_type": "code",
        "outputId": "f31589c8-03bd-446f-afec-35855763a34e",
        "colab": {
          "base_uri": "https://localhost:8080/",
          "height": 1000
        }
      },
      "source": [
        "from keras.applications.vgg16 import VGG16\n",
        "model=VGG16(weights='imagenet', include_top=False)\n",
        "model.summary()\n"
      ],
      "execution_count": 0,
      "outputs": [
        {
          "output_type": "stream",
          "text": [
            "Using TensorFlow backend.\n"
          ],
          "name": "stderr"
        },
        {
          "output_type": "display_data",
          "data": {
            "text/html": [
              "<p style=\"color: red;\">\n",
              "The default version of TensorFlow in Colab will soon switch to TensorFlow 2.x.<br>\n",
              "We recommend you <a href=\"https://www.tensorflow.org/guide/migrate\" target=\"_blank\">upgrade</a> now \n",
              "or ensure your notebook will continue to use TensorFlow 1.x via the <code>%tensorflow_version 1.x</code> magic:\n",
              "<a href=\"https://colab.research.google.com/notebooks/tensorflow_version.ipynb\" target=\"_blank\">more info</a>.</p>\n"
            ],
            "text/plain": [
              "<IPython.core.display.HTML object>"
            ]
          },
          "metadata": {
            "tags": []
          }
        },
        {
          "output_type": "stream",
          "text": [
            "WARNING:tensorflow:From /usr/local/lib/python3.6/dist-packages/keras/backend/tensorflow_backend.py:66: The name tf.get_default_graph is deprecated. Please use tf.compat.v1.get_default_graph instead.\n",
            "\n",
            "WARNING:tensorflow:From /usr/local/lib/python3.6/dist-packages/keras/backend/tensorflow_backend.py:541: The name tf.placeholder is deprecated. Please use tf.compat.v1.placeholder instead.\n",
            "\n",
            "WARNING:tensorflow:From /usr/local/lib/python3.6/dist-packages/keras/backend/tensorflow_backend.py:4432: The name tf.random_uniform is deprecated. Please use tf.random.uniform instead.\n",
            "\n",
            "WARNING:tensorflow:From /usr/local/lib/python3.6/dist-packages/keras/backend/tensorflow_backend.py:4267: The name tf.nn.max_pool is deprecated. Please use tf.nn.max_pool2d instead.\n",
            "\n",
            "Downloading data from https://github.com/fchollet/deep-learning-models/releases/download/v0.1/vgg16_weights_tf_dim_ordering_tf_kernels_notop.h5\n",
            "58892288/58889256 [==============================] - 2s 0us/step\n",
            "WARNING:tensorflow:From /usr/local/lib/python3.6/dist-packages/keras/backend/tensorflow_backend.py:190: The name tf.get_default_session is deprecated. Please use tf.compat.v1.get_default_session instead.\n",
            "\n",
            "WARNING:tensorflow:From /usr/local/lib/python3.6/dist-packages/keras/backend/tensorflow_backend.py:197: The name tf.ConfigProto is deprecated. Please use tf.compat.v1.ConfigProto instead.\n",
            "\n",
            "WARNING:tensorflow:From /usr/local/lib/python3.6/dist-packages/keras/backend/tensorflow_backend.py:203: The name tf.Session is deprecated. Please use tf.compat.v1.Session instead.\n",
            "\n",
            "WARNING:tensorflow:From /usr/local/lib/python3.6/dist-packages/keras/backend/tensorflow_backend.py:207: The name tf.global_variables is deprecated. Please use tf.compat.v1.global_variables instead.\n",
            "\n",
            "WARNING:tensorflow:From /usr/local/lib/python3.6/dist-packages/keras/backend/tensorflow_backend.py:216: The name tf.is_variable_initialized is deprecated. Please use tf.compat.v1.is_variable_initialized instead.\n",
            "\n",
            "WARNING:tensorflow:From /usr/local/lib/python3.6/dist-packages/keras/backend/tensorflow_backend.py:223: The name tf.variables_initializer is deprecated. Please use tf.compat.v1.variables_initializer instead.\n",
            "\n",
            "Model: \"vgg16\"\n",
            "_________________________________________________________________\n",
            "Layer (type)                 Output Shape              Param #   \n",
            "=================================================================\n",
            "input_1 (InputLayer)         (None, None, None, 3)     0         \n",
            "_________________________________________________________________\n",
            "block1_conv1 (Conv2D)        (None, None, None, 64)    1792      \n",
            "_________________________________________________________________\n",
            "block1_conv2 (Conv2D)        (None, None, None, 64)    36928     \n",
            "_________________________________________________________________\n",
            "block1_pool (MaxPooling2D)   (None, None, None, 64)    0         \n",
            "_________________________________________________________________\n",
            "block2_conv1 (Conv2D)        (None, None, None, 128)   73856     \n",
            "_________________________________________________________________\n",
            "block2_conv2 (Conv2D)        (None, None, None, 128)   147584    \n",
            "_________________________________________________________________\n",
            "block2_pool (MaxPooling2D)   (None, None, None, 128)   0         \n",
            "_________________________________________________________________\n",
            "block3_conv1 (Conv2D)        (None, None, None, 256)   295168    \n",
            "_________________________________________________________________\n",
            "block3_conv2 (Conv2D)        (None, None, None, 256)   590080    \n",
            "_________________________________________________________________\n",
            "block3_conv3 (Conv2D)        (None, None, None, 256)   590080    \n",
            "_________________________________________________________________\n",
            "block3_pool (MaxPooling2D)   (None, None, None, 256)   0         \n",
            "_________________________________________________________________\n",
            "block4_conv1 (Conv2D)        (None, None, None, 512)   1180160   \n",
            "_________________________________________________________________\n",
            "block4_conv2 (Conv2D)        (None, None, None, 512)   2359808   \n",
            "_________________________________________________________________\n",
            "block4_conv3 (Conv2D)        (None, None, None, 512)   2359808   \n",
            "_________________________________________________________________\n",
            "block4_pool (MaxPooling2D)   (None, None, None, 512)   0         \n",
            "_________________________________________________________________\n",
            "block5_conv1 (Conv2D)        (None, None, None, 512)   2359808   \n",
            "_________________________________________________________________\n",
            "block5_conv2 (Conv2D)        (None, None, None, 512)   2359808   \n",
            "_________________________________________________________________\n",
            "block5_conv3 (Conv2D)        (None, None, None, 512)   2359808   \n",
            "_________________________________________________________________\n",
            "block5_pool (MaxPooling2D)   (None, None, None, 512)   0         \n",
            "=================================================================\n",
            "Total params: 14,714,688\n",
            "Trainable params: 14,714,688\n",
            "Non-trainable params: 0\n",
            "_________________________________________________________________\n"
          ],
          "name": "stdout"
        }
      ]
    },
    {
      "cell_type": "code",
      "metadata": {
        "id": "Tcv3YnxnxOQ6",
        "colab_type": "code",
        "outputId": "4bb6f3f3-f0f2-40e6-8fdc-9f766a7ef39c",
        "colab": {
          "base_uri": "https://localhost:8080/",
          "height": 124
        }
      },
      "source": [
        "from google.colab import drive\n",
        "drive.mount('/content/drive')"
      ],
      "execution_count": 0,
      "outputs": [
        {
          "output_type": "stream",
          "text": [
            "Go to this URL in a browser: https://accounts.google.com/o/oauth2/auth?client_id=947318989803-6bn6qk8qdgf4n4g3pfee6491hc0brc4i.apps.googleusercontent.com&redirect_uri=urn%3aietf%3awg%3aoauth%3a2.0%3aoob&response_type=code&scope=email%20https%3a%2f%2fwww.googleapis.com%2fauth%2fdocs.test%20https%3a%2f%2fwww.googleapis.com%2fauth%2fdrive%20https%3a%2f%2fwww.googleapis.com%2fauth%2fdrive.photos.readonly%20https%3a%2f%2fwww.googleapis.com%2fauth%2fpeopleapi.readonly\n",
            "\n",
            "Enter your authorization code:\n",
            "··········\n",
            "Mounted at /content/drive\n"
          ],
          "name": "stdout"
        }
      ]
    },
    {
      "cell_type": "code",
      "metadata": {
        "id": "KPc2_IYfxU9L",
        "colab_type": "code",
        "outputId": "5db90823-aaac-4632-ba1e-096def66e1cb",
        "colab": {
          "base_uri": "https://localhost:8080/",
          "height": 86
        }
      },
      "source": [
        "%matplotlib inline\n",
        "import matplotlib.pyplot as plt\n",
        "\n",
        "from keras.preprocessing import image\n",
        "url='drive/My Drive/Colab Notebooks/1.jpg'\n",
        "img = image.load_img(url, target_size=(224, 224))\n",
        "print(type(img))\n",
        "print(img.format)\n",
        "print(img.mode)\n",
        "print(img.size)\n",
        "img.show()\n",
        "plt.show()"
      ],
      "execution_count": 0,
      "outputs": [
        {
          "output_type": "stream",
          "text": [
            "<class 'PIL.Image.Image'>\n",
            "None\n",
            "RGB\n",
            "(224, 224)\n"
          ],
          "name": "stdout"
        }
      ]
    },
    {
      "cell_type": "code",
      "metadata": {
        "id": "Rqwzi_GdxmsC",
        "colab_type": "code",
        "outputId": "ea9094c3-df90-405a-c1ab-bd9c527a64b3",
        "colab": {
          "base_uri": "https://localhost:8080/",
          "height": 1000
        }
      },
      "source": [
        "# example of saving an image with the Keras API\n",
        "from keras.preprocessing.image import load_img\n",
        "from keras.preprocessing.image import save_img\n",
        "from keras.preprocessing.image import img_to_array\n",
        "import numpy as np\n",
        "from keras.applications.resnet50 import preprocess_input\n",
        "# load image as as grayscale\n",
        "img = load_img(url, target_size=(244,244))\n",
        "# convert image to a numpy array\n",
        "img_array = img_to_array(img)\n",
        "img_data=np.expand_dims(img_array,axis=0)\n",
        "img_data=preprocess_input(img_data)\n",
        "vgg16_feature=model.predict(img_data)\n",
        "print(type(img))\n",
        "print(img.format)\n",
        "print(img.mode)\n",
        "print(img.size)\n",
        "img.show()\n",
        "print(img_data.shape)\n",
        "print(vgg16_feature)"
      ],
      "execution_count": 0,
      "outputs": [
        {
          "output_type": "stream",
          "text": [
            "<class 'PIL.Image.Image'>\n",
            "None\n",
            "RGB\n",
            "(244, 244)\n",
            "(1, 244, 244, 3)\n",
            "[[[[0.0000000e+00 0.0000000e+00 0.0000000e+00 ... 0.0000000e+00\n",
            "    0.0000000e+00 0.0000000e+00]\n",
            "   [0.0000000e+00 0.0000000e+00 0.0000000e+00 ... 0.0000000e+00\n",
            "    0.0000000e+00 0.0000000e+00]\n",
            "   [0.0000000e+00 0.0000000e+00 0.0000000e+00 ... 0.0000000e+00\n",
            "    0.0000000e+00 0.0000000e+00]\n",
            "   ...\n",
            "   [0.0000000e+00 0.0000000e+00 0.0000000e+00 ... 1.0703775e+01\n",
            "    0.0000000e+00 0.0000000e+00]\n",
            "   [0.0000000e+00 0.0000000e+00 0.0000000e+00 ... 7.7931919e+00\n",
            "    0.0000000e+00 0.0000000e+00]\n",
            "   [0.0000000e+00 0.0000000e+00 0.0000000e+00 ... 0.0000000e+00\n",
            "    4.6331077e+00 0.0000000e+00]]\n",
            "\n",
            "  [[0.0000000e+00 0.0000000e+00 0.0000000e+00 ... 0.0000000e+00\n",
            "    2.4626303e+00 0.0000000e+00]\n",
            "   [0.0000000e+00 0.0000000e+00 0.0000000e+00 ... 0.0000000e+00\n",
            "    0.0000000e+00 0.0000000e+00]\n",
            "   [1.4729898e+02 0.0000000e+00 0.0000000e+00 ... 0.0000000e+00\n",
            "    0.0000000e+00 0.0000000e+00]\n",
            "   ...\n",
            "   [2.3211302e+01 0.0000000e+00 0.0000000e+00 ... 5.0894794e+01\n",
            "    0.0000000e+00 0.0000000e+00]\n",
            "   [0.0000000e+00 0.0000000e+00 0.0000000e+00 ... 3.4440907e+01\n",
            "    0.0000000e+00 0.0000000e+00]\n",
            "   [0.0000000e+00 0.0000000e+00 0.0000000e+00 ... 0.0000000e+00\n",
            "    0.0000000e+00 0.0000000e+00]]\n",
            "\n",
            "  [[0.0000000e+00 0.0000000e+00 0.0000000e+00 ... 0.0000000e+00\n",
            "    0.0000000e+00 5.8112531e+00]\n",
            "   [0.0000000e+00 1.3295158e+01 4.3695274e+01 ... 0.0000000e+00\n",
            "    0.0000000e+00 0.0000000e+00]\n",
            "   [1.5281683e+02 2.5323500e+01 3.0311628e+01 ... 0.0000000e+00\n",
            "    0.0000000e+00 0.0000000e+00]\n",
            "   ...\n",
            "   [2.6742517e+01 6.7352757e+00 7.8519254e+00 ... 0.0000000e+00\n",
            "    0.0000000e+00 0.0000000e+00]\n",
            "   [0.0000000e+00 0.0000000e+00 2.0156841e+00 ... 1.4514313e+01\n",
            "    0.0000000e+00 0.0000000e+00]\n",
            "   [0.0000000e+00 0.0000000e+00 0.0000000e+00 ... 0.0000000e+00\n",
            "    0.0000000e+00 0.0000000e+00]]\n",
            "\n",
            "  ...\n",
            "\n",
            "  [[0.0000000e+00 0.0000000e+00 0.0000000e+00 ... 0.0000000e+00\n",
            "    0.0000000e+00 6.8939900e-01]\n",
            "   [0.0000000e+00 0.0000000e+00 3.6339115e+01 ... 0.0000000e+00\n",
            "    0.0000000e+00 0.0000000e+00]\n",
            "   [0.0000000e+00 0.0000000e+00 2.5535772e+01 ... 0.0000000e+00\n",
            "    0.0000000e+00 0.0000000e+00]\n",
            "   ...\n",
            "   [7.8483343e-02 0.0000000e+00 1.9413261e+01 ... 2.3754132e+00\n",
            "    0.0000000e+00 0.0000000e+00]\n",
            "   [0.0000000e+00 0.0000000e+00 0.0000000e+00 ... 0.0000000e+00\n",
            "    0.0000000e+00 0.0000000e+00]\n",
            "   [0.0000000e+00 0.0000000e+00 0.0000000e+00 ... 0.0000000e+00\n",
            "    0.0000000e+00 0.0000000e+00]]\n",
            "\n",
            "  [[0.0000000e+00 0.0000000e+00 0.0000000e+00 ... 0.0000000e+00\n",
            "    0.0000000e+00 0.0000000e+00]\n",
            "   [0.0000000e+00 0.0000000e+00 2.5170774e+01 ... 0.0000000e+00\n",
            "    0.0000000e+00 0.0000000e+00]\n",
            "   [2.5308397e+01 0.0000000e+00 1.7113993e+01 ... 0.0000000e+00\n",
            "    0.0000000e+00 0.0000000e+00]\n",
            "   ...\n",
            "   [1.5779316e+01 0.0000000e+00 2.5187628e+01 ... 5.0347629e+00\n",
            "    0.0000000e+00 0.0000000e+00]\n",
            "   [0.0000000e+00 0.0000000e+00 1.5065614e+01 ... 0.0000000e+00\n",
            "    0.0000000e+00 0.0000000e+00]\n",
            "   [0.0000000e+00 0.0000000e+00 9.2407351e+00 ... 0.0000000e+00\n",
            "    0.0000000e+00 0.0000000e+00]]\n",
            "\n",
            "  [[0.0000000e+00 0.0000000e+00 0.0000000e+00 ... 0.0000000e+00\n",
            "    0.0000000e+00 0.0000000e+00]\n",
            "   [4.0349178e+00 0.0000000e+00 1.2932860e+01 ... 0.0000000e+00\n",
            "    0.0000000e+00 0.0000000e+00]\n",
            "   [1.6303091e+01 0.0000000e+00 4.1885443e+00 ... 0.0000000e+00\n",
            "    0.0000000e+00 0.0000000e+00]\n",
            "   ...\n",
            "   [7.2494869e+00 0.0000000e+00 1.3995321e+00 ... 0.0000000e+00\n",
            "    0.0000000e+00 0.0000000e+00]\n",
            "   [2.6682119e+00 0.0000000e+00 9.5042591e+00 ... 3.2275549e-01\n",
            "    0.0000000e+00 0.0000000e+00]\n",
            "   [7.7780008e-01 0.0000000e+00 1.3470546e+01 ... 0.0000000e+00\n",
            "    0.0000000e+00 0.0000000e+00]]]]\n"
          ],
          "name": "stdout"
        }
      ]
    },
    {
      "cell_type": "code",
      "metadata": {
        "id": "Pwytnhqjx9zS",
        "colab_type": "code",
        "outputId": "e55a11b3-eab9-47d4-8ca2-c164843516fb",
        "colab": {
          "base_uri": "https://localhost:8080/",
          "height": 52
        }
      },
      "source": [
        "import os\n",
        "import numpy as np\n",
        "path=\"drive/My Drive/Colab Notebooks/images\"\n",
        "directory = os.fsencode(path)\n",
        "vgg16_features=[]\n",
        "for file in os.listdir(directory):\n",
        "  filename = os.fsdecode(file)\n",
        "  if filename.endswith(\".jpg\") or filename.endswith(\".jpeg\"): \n",
        "    # print(os.path.join(directory, filename))\n",
        "    img = load_img(path+\"/\"+filename, target_size=(244,244))\n",
        "    img.show()\n",
        "    # convert image to a numpy array\n",
        "    img_array = img_to_array(img)\n",
        "    img_data=np.expand_dims(img_array,axis=0)\n",
        "    img_data=preprocess_input(img_data)\n",
        "    t=model.predict(img_data)\n",
        "    # vgg16_features.append(t.flatten())\n",
        "    vgg16_features.append(t.reshape(25088,))\n",
        "print(vgg16_features[0].shape)\n",
        "print(len(vgg16_features))"
      ],
      "execution_count": 91,
      "outputs": [
        {
          "output_type": "stream",
          "text": [
            "(25088,)\n",
            "10\n"
          ],
          "name": "stdout"
        }
      ]
    },
    {
      "cell_type": "code",
      "metadata": {
        "id": "5qn-kBHJMGoa",
        "colab_type": "code",
        "colab": {}
      },
      "source": [
        ""
      ],
      "execution_count": 0,
      "outputs": []
    },
    {
      "cell_type": "code",
      "metadata": {
        "id": "BDAwR1W34W0d",
        "colab_type": "code",
        "outputId": "a10d8c6d-a745-44bf-9e59-fd0f2c8479bf",
        "colab": {
          "base_uri": "https://localhost:8080/",
          "height": 34
        }
      },
      "source": [
        "from sklearn.cluster import KMeans\n",
        "kmeans = KMeans(n_clusters=2, init='random', n_init=10, max_iter=300, tol=1e-04, random_state=0)\n",
        "kmeans.fit(vgg16_features)\n",
        "y_kmeans = kmeans.predict(vgg16_features)\n",
        "vgg16_features\n",
        "print(y_kmeans)\n",
        "#expected: 0,0,0,0,0,1,1,1,1,1 or 1,1,1,1,1,0,0,0,0,0\n"
      ],
      "execution_count": 92,
      "outputs": [
        {
          "output_type": "stream",
          "text": [
            "[1 0 1 1 0 1 1 1 1 1]\n"
          ],
          "name": "stdout"
        }
      ]
    },
    {
      "cell_type": "code",
      "metadata": {
        "id": "lYgHgSPTPwBv",
        "colab_type": "code",
        "colab": {}
      },
      "source": [
        ""
      ],
      "execution_count": 0,
      "outputs": []
    }
  ]
}